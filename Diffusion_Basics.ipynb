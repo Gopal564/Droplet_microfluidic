{
 "cells": [
  {
   "cell_type": "code",
   "execution_count": 33,
   "id": "ceb7eabc-6312-43ca-acbf-3f3452d023aa",
   "metadata": {},
   "outputs": [],
   "source": [
    "import deepxde as dde\n",
    "import numpy as np\n",
    "from deepxde.backend import tf"
   ]
  },
  {
   "cell_type": "code",
   "execution_count": 34,
   "id": "4c68a6e9-f2c6-451c-a8ea-2f6ec630c36a",
   "metadata": {},
   "outputs": [],
   "source": [
    "# Constant Parameters in the model\n",
    "Dif = 1e-6\n",
    "c_0 = 10\n",
    "c_1 = 3\n",
    "c_2 = 0\n",
    "l = 0.5\n",
    "T_tot = 1.5*l**2/Dif"
   ]
  },
  {
   "cell_type": "code",
   "execution_count": 35,
   "id": "a6baf6ce-75e1-46c8-971f-bfd09f898df8",
   "metadata": {},
   "outputs": [],
   "source": [
    "geom = dde.geometry.Interval(0, l)\n",
    "timedomain = dde.geometry.TimeDomain(0, T_tot)\n",
    "geomtime = dde.geometry.GeometryXTime(geom, timedomain)"
   ]
  },
  {
   "cell_type": "code",
   "execution_count": 36,
   "id": "e1497613-f5bd-4c23-8693-cbaffbefe091",
   "metadata": {},
   "outputs": [],
   "source": [
    "def pde(x, y):\n",
    "    dy_t = dde.grad.jacobian(y, x, j=1)\n",
    "    dy_xx = dde.grad.hessian(y, x, j=0)\n",
    "    return (dy_t - Dif * dy_xx)"
   ]
  },
  {
   "cell_type": "code",
   "execution_count": 43,
   "id": "10ed84da-3dc0-4176-99c9-222eb1846211",
   "metadata": {},
   "outputs": [],
   "source": [
    "def func(x):\n",
    "    return c_0\n",
    "\n",
    "def func_bound1(x):\n",
    "   return c_1\n",
    "\n",
    "def func_bound2(x):\n",
    "   return c_2\n",
    "\n",
    "def boundary1(x,on_boundary):\n",
    "   return np.isclose(x[0], 0) and on_boundary\n",
    "\n",
    "def boundary2(x,on_boundary):\n",
    "   return np.isclose(x[0], l) and on_boundary"
   ]
  },
  {
   "cell_type": "code",
   "execution_count": 44,
   "id": "4e2eeb58-5a4c-4c6b-b3c0-7e2697c62c6d",
   "metadata": {},
   "outputs": [],
   "source": [
    "bc1 = dde.DirichletBC(geomtime, func_bound1, boundary1)\n",
    "bc2 = dde.DirichletBC(geomtime, func_bound2, boundary2)\n",
    "ic = dde.icbc.IC(geomtime, func, lambda _, on_initial: on_initial)"
   ]
  },
  {
   "cell_type": "code",
   "execution_count": 45,
   "id": "8b511656-1cb6-4806-b879-93e823e509e4",
   "metadata": {},
   "outputs": [],
   "source": [
    "data = dde.data.TimePDE(\n",
    "    geomtime,\n",
    "    pde,\n",
    "    [bc1, bc2, ic],\n",
    "    num_domain=40,\n",
    "    num_boundary=20,\n",
    "    num_initial=10,\n",
    "    solution=func,\n",
    "    num_test=10000,\n",
    ")"
   ]
  },
  {
   "cell_type": "code",
   "execution_count": 46,
   "id": "9d06462f-5914-4802-ae2b-69d3667ad837",
   "metadata": {},
   "outputs": [],
   "source": [
    "layer_size = [2] + [32] * 3 + [1]\n",
    "activation = \"tanh\"\n",
    "initializer = \"Glorot uniform\"\n",
    "net = dde.nn.FNN(layer_size, activation, initializer)"
   ]
  },
  {
   "cell_type": "code",
   "execution_count": 47,
   "id": "692330f0-12ed-47f4-a778-ebbd751756ba",
   "metadata": {},
   "outputs": [
    {
     "name": "stdout",
     "output_type": "stream",
     "text": [
      "Compiling model...\n",
      "'compile' took 0.009839 s\n",
      "\n",
      "Training model...\n",
      "\n",
      "Step      Train loss                                  Test loss                                   Test metric   \n",
      "0         [1.37e-03, 7.47e+00, 7.16e-02, 9.82e+01]    [2.38e-09, 7.47e+00, 7.16e-02, 9.82e+01]    [9.75e+01]    \n",
      "1000      [7.51e-07, 2.25e+00, 2.25e+00, 2.24e-02]    [2.40e-07, 2.25e+00, 2.25e+00, 2.24e-02]    [8.51e+01]    \n",
      "2000      [4.41e-08, 2.25e+00, 2.25e+00, 5.97e-03]    [2.98e-07, 2.25e+00, 2.25e+00, 5.97e-03]    [8.51e+01]    \n",
      "3000      [8.70e-09, 2.25e+00, 2.25e+00, 2.31e-03]    [3.40e-07, 2.25e+00, 2.25e+00, 2.31e-03]    [8.51e+01]    \n",
      "4000      [5.89e-08, 2.47e+00, 2.04e+00, 1.09e-03]    [3.46e-07, 2.47e+00, 2.04e+00, 1.09e-03]    [8.58e+01]    \n",
      "5000      [1.52e-07, 2.25e+00, 2.25e+00, 5.81e-04]    [3.09e-07, 2.25e+00, 2.25e+00, 5.81e-04]    [8.51e+01]    \n",
      "6000      [3.03e-07, 2.25e+00, 2.25e+00, 3.27e-04]    [2.70e-07, 2.25e+00, 2.25e+00, 3.27e-04]    [8.51e+01]    \n",
      "7000      [5.39e-07, 2.25e+00, 2.25e+00, 1.89e-04]    [2.02e-07, 2.25e+00, 2.25e+00, 1.89e-04]    [8.51e+01]    \n",
      "8000      [6.64e-07, 2.25e+00, 2.25e+00, 1.04e-04]    [2.37e-07, 2.25e+00, 2.25e+00, 1.04e-04]    [8.51e+01]    \n",
      "9000      [8.15e-07, 2.25e+00, 2.25e+00, 8.56e-05]    [3.41e-08, 2.25e+00, 2.25e+00, 8.56e-05]    [8.51e+01]    \n",
      "10000     [1.54e-07, 2.25e+00, 2.25e+00, 4.64e-05]    [5.53e-08, 2.25e+00, 2.25e+00, 4.64e-05]    [8.51e+01]    \n",
      "\n",
      "Best model at step 10000:\n",
      "  train loss: 4.50e+00\n",
      "  test loss: 4.50e+00\n",
      "  test metric: [8.51e+01]\n",
      "\n",
      "'train' took 22.445584 s\n",
      "\n"
     ]
    }
   ],
   "source": [
    "model = dde.Model(data, net)\n",
    "model.compile(\"adam\", lr=0.001, metrics=[\"l2 relative error\"])\n",
    "losshistory, train_state = model.train(iterations=10000)"
   ]
  },
  {
   "cell_type": "code",
   "execution_count": 48,
   "id": "8dbce87d-4c79-464e-89a4-c26f00ce62d6",
   "metadata": {},
   "outputs": [
    {
     "name": "stdout",
     "output_type": "stream",
     "text": [
      "Saving loss history to /home/gopal2751765/pinns_work/PINNS/loss.dat ...\n",
      "Saving training data to /home/gopal2751765/pinns_work/PINNS/train.dat ...\n"
     ]
    },
    {
     "ename": "ValueError",
     "evalue": "all the input arrays must have same number of dimensions, but the array at index 0 has 2 dimension(s) and the array at index 1 has 1 dimension(s)",
     "output_type": "error",
     "traceback": [
      "\u001b[0;31m---------------------------------------------------------------------------\u001b[0m",
      "\u001b[0;31mValueError\u001b[0m                                Traceback (most recent call last)",
      "Cell \u001b[0;32mIn[48], line 1\u001b[0m\n\u001b[0;32m----> 1\u001b[0m \u001b[43mdde\u001b[49m\u001b[38;5;241;43m.\u001b[39;49m\u001b[43msaveplot\u001b[49m\u001b[43m(\u001b[49m\u001b[43mlosshistory\u001b[49m\u001b[43m,\u001b[49m\u001b[43m \u001b[49m\u001b[43mtrain_state\u001b[49m\u001b[43m,\u001b[49m\u001b[43m \u001b[49m\u001b[43missave\u001b[49m\u001b[38;5;241;43m=\u001b[39;49m\u001b[38;5;28;43;01mTrue\u001b[39;49;00m\u001b[43m,\u001b[49m\u001b[43m \u001b[49m\u001b[43misplot\u001b[49m\u001b[38;5;241;43m=\u001b[39;49m\u001b[38;5;28;43;01mTrue\u001b[39;49;00m\u001b[43m)\u001b[49m\n",
      "File \u001b[0;32m~/pinns_work/lib/python3.10/site-packages/deepxde/utils/external.py:175\u001b[0m, in \u001b[0;36msaveplot\u001b[0;34m(loss_history, train_state, issave, isplot, loss_fname, train_fname, test_fname, output_dir)\u001b[0m\n\u001b[1;32m    173\u001b[0m     test_fname \u001b[38;5;241m=\u001b[39m os\u001b[38;5;241m.\u001b[39mpath\u001b[38;5;241m.\u001b[39mjoin(output_dir, test_fname)\n\u001b[1;32m    174\u001b[0m     save_loss_history(loss_history, loss_fname)\n\u001b[0;32m--> 175\u001b[0m     \u001b[43msave_best_state\u001b[49m\u001b[43m(\u001b[49m\u001b[43mtrain_state\u001b[49m\u001b[43m,\u001b[49m\u001b[43m \u001b[49m\u001b[43mtrain_fname\u001b[49m\u001b[43m,\u001b[49m\u001b[43m \u001b[49m\u001b[43mtest_fname\u001b[49m\u001b[43m)\u001b[49m\n\u001b[1;32m    177\u001b[0m \u001b[38;5;28;01mif\u001b[39;00m isplot:\n\u001b[1;32m    178\u001b[0m     plot_loss_history(loss_history)\n",
      "File \u001b[0;32m~/pinns_work/lib/python3.10/site-packages/deepxde/utils/external.py:341\u001b[0m, in \u001b[0;36msave_best_state\u001b[0;34m(train_state, fname_train, fname_test)\u001b[0m\n\u001b[1;32m    339\u001b[0m     np\u001b[38;5;241m.\u001b[39msavetxt(fname_train, train_state\u001b[38;5;241m.\u001b[39mX_train, header\u001b[38;5;241m=\u001b[39m\u001b[38;5;124m\"\u001b[39m\u001b[38;5;124mx\u001b[39m\u001b[38;5;124m\"\u001b[39m)\n\u001b[1;32m    340\u001b[0m \u001b[38;5;28;01melse\u001b[39;00m:\n\u001b[0;32m--> 341\u001b[0m     train \u001b[38;5;241m=\u001b[39m \u001b[43mnp\u001b[49m\u001b[38;5;241;43m.\u001b[39;49m\u001b[43mhstack\u001b[49m\u001b[43m(\u001b[49m\u001b[43m(\u001b[49m\u001b[43mtrain_state\u001b[49m\u001b[38;5;241;43m.\u001b[39;49m\u001b[43mX_train\u001b[49m\u001b[43m,\u001b[49m\u001b[43m \u001b[49m\u001b[43my_train\u001b[49m\u001b[43m)\u001b[49m\u001b[43m)\u001b[49m\n\u001b[1;32m    342\u001b[0m     np\u001b[38;5;241m.\u001b[39msavetxt(fname_train, train, header\u001b[38;5;241m=\u001b[39m\u001b[38;5;124m\"\u001b[39m\u001b[38;5;124mx, y\u001b[39m\u001b[38;5;124m\"\u001b[39m)\n\u001b[1;32m    344\u001b[0m \u001b[38;5;28mprint\u001b[39m(\u001b[38;5;124m\"\u001b[39m\u001b[38;5;124mSaving test data to \u001b[39m\u001b[38;5;132;01m{}\u001b[39;00m\u001b[38;5;124m ...\u001b[39m\u001b[38;5;124m\"\u001b[39m\u001b[38;5;241m.\u001b[39mformat(fname_test))\n",
      "File \u001b[0;32m~/pinns_work/lib/python3.10/site-packages/numpy/core/shape_base.py:359\u001b[0m, in \u001b[0;36mhstack\u001b[0;34m(tup, dtype, casting)\u001b[0m\n\u001b[1;32m    357\u001b[0m     \u001b[38;5;28;01mreturn\u001b[39;00m _nx\u001b[38;5;241m.\u001b[39mconcatenate(arrs, \u001b[38;5;241m0\u001b[39m, dtype\u001b[38;5;241m=\u001b[39mdtype, casting\u001b[38;5;241m=\u001b[39mcasting)\n\u001b[1;32m    358\u001b[0m \u001b[38;5;28;01melse\u001b[39;00m:\n\u001b[0;32m--> 359\u001b[0m     \u001b[38;5;28;01mreturn\u001b[39;00m \u001b[43m_nx\u001b[49m\u001b[38;5;241;43m.\u001b[39;49m\u001b[43mconcatenate\u001b[49m\u001b[43m(\u001b[49m\u001b[43marrs\u001b[49m\u001b[43m,\u001b[49m\u001b[43m \u001b[49m\u001b[38;5;241;43m1\u001b[39;49m\u001b[43m,\u001b[49m\u001b[43m \u001b[49m\u001b[43mdtype\u001b[49m\u001b[38;5;241;43m=\u001b[39;49m\u001b[43mdtype\u001b[49m\u001b[43m,\u001b[49m\u001b[43m \u001b[49m\u001b[43mcasting\u001b[49m\u001b[38;5;241;43m=\u001b[39;49m\u001b[43mcasting\u001b[49m\u001b[43m)\u001b[49m\n",
      "\u001b[0;31mValueError\u001b[0m: all the input arrays must have same number of dimensions, but the array at index 0 has 2 dimension(s) and the array at index 1 has 1 dimension(s)"
     ]
    }
   ],
   "source": [
    "dde.saveplot(losshistory, train_state, issave=True, isplot=True)"
   ]
  }
 ],
 "metadata": {
  "kernelspec": {
   "display_name": "Python 3 (ipykernel)",
   "language": "python",
   "name": "python3"
  },
  "language_info": {
   "codemirror_mode": {
    "name": "ipython",
    "version": 3
   },
   "file_extension": ".py",
   "mimetype": "text/x-python",
   "name": "python",
   "nbconvert_exporter": "python",
   "pygments_lexer": "ipython3",
   "version": "3.10.12"
  }
 },
 "nbformat": 4,
 "nbformat_minor": 5
}
